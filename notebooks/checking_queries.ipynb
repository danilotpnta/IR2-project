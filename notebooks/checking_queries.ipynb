{
 "cells": [
  {
   "cell_type": "code",
   "execution_count": 6,
   "metadata": {
    "vscode": {
     "languageId": "plaintext"
    }
   },
   "outputs": [
    {
     "name": "stdout",
     "output_type": "stream",
     "text": [
      " ------- Document ID: tpaoi96c ------- \n",
      "\n",
      "** ir_datasets **\n",
      "Document Content: OBJECTIVE: To describe the epidemiology of carbapenem-resistant Enterobacteriaceae (CRE) healthcare-associated infections (HAI) in Egyptian hospitals reporting to the national HAI surveillance system. METHODS: Design: Descriptive analysis of CRE HAIs and retrospective observational cohort study using national HAI surveillance data. Setting: Egyptian hospitals participating in the HAI surveillance system. The patient population included patients admitted to the intensive care unit (ICU) in participating hospitals. Enterobacteriaceae HAI cases were Klebsiella, Escherichia coli, and Enterobacter isolates from blood, urine, wound or respiratory specimen collected on or after day 3 of ICU admission. CRE HAI cases were those resistant to at least one carbapenem. For CRE HAI cases reported during 2011–2017, a hospital-level and patient-level analysis were conducted using only the first CRE isolate by pathogen and specimen type for each patient. For facility, microbiology, and clinical characteristics, frequencies and means were calculated among CRE HAI cases and compared with carbapenem-susceptible Enterobacteriaceae HAI cases through univariate and multivariate logistic regression using STATA 13. RESULTS: There were 1598 Enterobacteriaceae HAI cases, of which 871 (54.1%) were carbapenem resistant. The multivariate regression analysis demonstrated that carbapenem resistance was associated with specimen type, pathogen, location prior to admission, and length of ICU stay. Between 2011 and 2017, there was an increase in the proportion of Enterobacteriaceae HAI cases due to CRE (p-value = 0.003) and the incidence of CRE HAIs (p-value = 0.09). CONCLUSIONS: This analysis demonstrated a high and increasing burden of CRE in Egyptian hospitals, highlighting the importance of enhancing infection prevention and control (IPC) programs and antimicrobial stewardship activities and guiding the implementation of targeted IPC measures to contain CRE in Egyptian ICU’s .\n",
      "Word Count: 270\n",
      "\n",
      "** InPars HF Queries **\n",
      "Document Content: Epidemiology of Carbapenem-resistant Enterobacteriaceae in Egyptian intensive care units using National Healthcare–associated Infections Surveillance Data, 2011–2017 OBJECTIVE: To describe the epidemiology of carbapenem-resistant Enterobacteriaceae (CRE) healthcare-associated infections (HAI) in Egyptian hospitals reporting to the national HAI surveillance system. METHODS: Design: Descriptive analysis of CRE HAIs and retrospective observational cohort study using national HAI surveillance data. Setting: Egyptian hospitals participating in the HAI surveillance system. The patient population included patients admitted to the intensive care unit (ICU) in participating hospitals. Enterobacteriaceae HAI cases were Klebsiella, Escherichia coli, and Enterobacter isolates from blood, urine, wound or respiratory specimen collected on or after day 3 of ICU admission. CRE HAI cases were those resistant to at least one carbapenem. For CRE HAI cases reported during 2011–2017, a hospital-level and patient-level analysis were conducted using only the first CRE isolate by pathogen and specimen type for each patient. For facility, microbiology, and clinical characteristics, frequencies and means were calculated among CRE HAI cases and compared with carbapenem-susceptible Enterobacteriaceae HAI cases through univariate and multivariate logistic regression using STATA 13. RESULTS: There were 1598 Enterobacteriaceae HAI cases, of which 871 (54.1%) were carbapenem resistant. The multivariate regression analysis demonstrated that carbapenem resistance was associated with specimen type, pathogen, location prior to admission, and length of ICU stay. Between 2011 and 2017, there was an increase in the proportion of Enterobacteriaceae HAI cases due to CRE (p-value = 0.003) and the incidence of CRE HAIs (p-value = 0.09). CONCLUSIONS: This analysis demonstrated a high and increasing burden of CRE in Egyptian hospitals, highlighting the importance of enhancing infection prevention and control (IPC) programs and antimicrobial stewardship activities and guiding the implementation of targeted IPC measures to contain CRE in Egyptian ICU's .\n",
      "Word Count: 286\n",
      "\n",
      " ------- Document ID: xuczplaf ------- \n",
      "\n",
      "** ir_datasets **\n",
      "Document Content: Abstract Coronavirus disease (COVID-19) is caused by SARS-COV2 and represents the causative agent of a potentially fatal disease that is of great global public health concern. Based on the large number of infected people that were exposed to the wet animal market in Wuhan City, China, it is suggested that this is likely the zoonotic origin of COVID-19. Person-to-person transmission of COVID-19 infection led to the isolation of patients that were subsequently administered a variety of treatments. Extensive measures to reduce person-to-person transmission of COVID-19 have been implemented to control the current outbreak. Special attention and efforts to protect or reduce transmission should be applied in susceptible populations including children, health care providers, and elderly people. In this review, we highlights the symptoms, epidemiology, transmission, pathogenesis, phylogenetic analysis and future directions to control the spread of this fatal disease.\n",
      "Word Count: 139\n",
      "\n",
      "** InPars HF Queries **\n",
      "Document Content: The epidemiology and pathogenesis of coronavirus disease (COVID-19) outbreak Abstract Coronavirus disease (COVID-19) is caused by SARS-COV2 and represents the causative agent of a potentially fatal disease that is of great global public health concern. Based on the large number of infected people that were exposed to the wet animal market in Wuhan City, China, it is suggested that this is likely the zoonotic origin of COVID-19. Person-to-person transmission of COVID-19 infection led to the isolation of patients that were subsequently administered a variety of treatments. Extensive measures to reduce person-to-person transmission of COVID-19 have been implemented to control the current outbreak. Special attention and efforts to protect or reduce transmission should be applied in susceptible populations including children, health care providers, and elderly people. In this review, we highlights the symptoms, epidemiology, transmission, pathogenesis, phylogenetic analysis and future directions to control the spread of this fatal disease.\n",
      "Word Count: 148\n",
      "\n"
     ]
    }
   ],
   "source": [
    "import ir_datasets\n",
    "import pandas as pd\n",
    "\n",
    "\"\"\"The documents are not the same, it seems like the ir_datasets got updated.\n",
    "That explains the difference in Table 3 from the InPars papers and ultimately\n",
    "the nDCG results we obtain will not be directly comparable.\n",
    "\"\"\"\n",
    "\n",
    "ID_tests = [\"tpaoi96c\", \"xuczplaf\"]\n",
    "\n",
    "for ID in ID_tests:\n",
    "    \n",
    "    # Checking doc from .ir_datasets\n",
    "    dataset = ir_datasets.load(\"beir/trec-covid\")\n",
    "    doc = next(doc for doc in dataset.docs_iter() if doc.doc_id == ID)\n",
    "    data = pd.Series([doc.text])  \n",
    "    word_count = data.str.split().str.len()\n",
    "    \n",
    "    print(f\" ------- Document ID: {doc.doc_id} ------- \")\n",
    "    print(\"\\n** ir_datasets **\")\n",
    "    print(f\"Document Content: {doc.text}\")\n",
    "    print(f\"Word Count: {word_count[0]}\")\n",
    "    \n",
    "    # Checking doc from queries.jsonl\n",
    "    dataset_path = \"/home/scur2880/IR2-project/data/trec-covid/queries.jsonl\"\n",
    "    df = pd.read_json(dataset_path, lines=True)\n",
    "    prompts = df[\"text\"]\n",
    "    doc_ids = df[\"doc_id\"]\n",
    "    text = prompts[doc_ids[doc_ids == ID].index[0]]\n",
    "    data = pd.Series([text])\n",
    "    word_count = data.str.split().str.len()\n",
    "    \n",
    "    print(\"\\n** InPars HF Queries **\")\n",
    "    print(f\"Document Content: {text}\")\n",
    "    print(f\"Word Count: {word_count[0]}\\n\")"
   ]
  },
  {
   "cell_type": "code",
   "execution_count": null,
   "metadata": {},
   "outputs": [],
   "source": []
  }
 ],
 "metadata": {
  "kernelspec": {
   "display_name": "Python 3 (ipykernel)",
   "language": "python",
   "name": "python3"
  },
  "language_info": {
   "codemirror_mode": {
    "name": "ipython",
    "version": 3
   },
   "file_extension": ".py",
   "mimetype": "text/x-python",
   "name": "python",
   "nbconvert_exporter": "python",
   "pygments_lexer": "ipython3",
   "version": "3.11.3"
  }
 },
 "nbformat": 4,
 "nbformat_minor": 4
}
